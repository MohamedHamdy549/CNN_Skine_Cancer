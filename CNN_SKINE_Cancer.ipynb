{
  "nbformat": 4,
  "nbformat_minor": 0,
  "metadata": {
    "colab": {
      "provenance": [],
      "authorship_tag": "ABX9TyNi3u1hU1STrMc6iK8wRwmC",
      "include_colab_link": true
    },
    "kernelspec": {
      "name": "python3",
      "display_name": "Python 3"
    },
    "language_info": {
      "name": "python"
    },
    "accelerator": "GPU",
    "gpuClass": "standard"
  },
  "cells": [
    {
      "cell_type": "markdown",
      "metadata": {
        "id": "view-in-github",
        "colab_type": "text"
      },
      "source": [
        "<a href=\"https://colab.research.google.com/github/MohamedHamdy549/CNN_Skine_Cancer/blob/main/CNN_SKINE_Cancer.ipynb\" target=\"_parent\"><img src=\"https://colab.research.google.com/assets/colab-badge.svg\" alt=\"Open In Colab\"/></a>"
      ]
    },
    {
      "cell_type": "code",
      "source": [
        "import matplotlib.pyplot as plt\n",
        "import numpy as np\n",
        "import tensorflow as tf\n",
        "import os\n",
        "import cv2\n",
        "from keras.models import Sequential\n",
        "import keras\n",
        "from keras.layers import Dense, Activation, Flatten, Conv2D, MaxPooling2D\n"
      ],
      "metadata": {
        "id": "6gXY5dK8s5ZK"
      },
      "execution_count": null,
      "outputs": []
    },
    {
      "cell_type": "code",
      "source": [
        "from google.colab import drive\n",
        "drive.mount('/content/drive')"
      ],
      "metadata": {
        "colab": {
          "base_uri": "https://localhost:8080/"
        },
        "id": "6qACurJI3jSk",
        "outputId": "ece119af-7f10-40e6-bbf1-5ed381d716e5"
      },
      "execution_count": null,
      "outputs": [
        {
          "output_type": "stream",
          "name": "stdout",
          "text": [
            "Mounted at /content/drive\n"
          ]
        }
      ]
    },
    {
      "cell_type": "code",
      "execution_count": null,
      "metadata": {
        "id": "6mq3BRW3SKVO"
      },
      "outputs": [],
      "source": [
        "drr = r\"/content/drive/MyDrive/train\"\n",
        "categories = ['malignant', 'benign']\n",
        "img_size = 50\n",
        "train_data = []\n",
        "\n",
        "for category in categories:\n",
        "  path = os.path.join(drr, category)\n",
        "  class_num = categories.index(category)\n",
        "\n",
        "  for img in os.listdir(path):\n",
        "    try:\n",
        "      img_arr = cv2.imread(os.path.join(path, img), 0)\n",
        "      new_arr = cv2.resize(img_arr, (img_size, img_size))\n",
        "      train_data.append([new_arr, class_num])\n",
        "    except:\n",
        "     pass\n"
      ]
    },
    {
      "cell_type": "code",
      "source": [
        "x_train=[]\n",
        "y_train=[]\n",
        "for features, labels in train_data:\n",
        "  x_train.append(features)\n",
        "  y_train.append(labels)\n"
      ],
      "metadata": {
        "id": "hNB9usdMBJ6l"
      },
      "execution_count": null,
      "outputs": []
    },
    {
      "cell_type": "code",
      "source": [
        "drr2 = r\"/content/drive/MyDrive/test\"\n",
        "test_data = []\n",
        "\n",
        "for category in categories:\n",
        "  path = os.path.join(drr, category)\n",
        "  class_num = categories.index(category)\n",
        "\n",
        "  for img in os.listdir(path):\n",
        "    try:\n",
        "      img_arr = cv2.imread(os.path.join(path, img), 0)\n",
        "      new_arr = cv2.resize(img_arr, (img_size, img_size))\n",
        "      test_data.append([new_arr, class_num])\n",
        "    except:\n",
        "     pass\n",
        ""
      ],
      "metadata": {
        "id": "-Bbh1D1EBktm"
      },
      "execution_count": null,
      "outputs": []
    },
    {
      "cell_type": "code",
      "source": [
        "x_test=[]\n",
        "y_test=[]\n",
        "for features, labels in train_data:\n",
        "  x_test.append(features)\n",
        "  y_test.append(labels)\n"
      ],
      "metadata": {
        "id": "qfhFWizOCCS0"
      },
      "execution_count": null,
      "outputs": []
    },
    {
      "cell_type": "code",
      "source": [
        "from keras.utils.np_utils import to_categorical\n",
        "y_train_h = to_categorical(y_train)\n",
        "y_test_h = to_categorical(y_test)"
      ],
      "metadata": {
        "id": "WNZaKvRdCNot"
      },
      "execution_count": null,
      "outputs": []
    },
    {
      "cell_type": "code",
      "source": [
        "X = np.array(x_train).reshape(-1, img_size, img_size, 1)\n",
        "y = np.array(y_train)\n",
        "\n",
        "X1 = np.array(x_test).reshape(-1, img_size, img_size, 1)\n",
        "y1 = np.array(y_test)"
      ],
      "metadata": {
        "id": "II7Fs7t4FmmK"
      },
      "execution_count": null,
      "outputs": []
    },
    {
      "cell_type": "code",
      "source": [
        "#with BatchNormalization\n",
        "from keras.layers import BatchNormalization\n",
        "from keras.layers import Dense, Activation, Flatten, Conv2D, MaxPooling2D\n",
        "\n",
        "\n",
        "model = Sequential()\n",
        "model.add(Conv2D(64, (3,3), padding='same', input_shape=(50, 50, 1), activation = 'relu'))\n",
        "model.add(BatchNormalization())\n",
        "model.add(MaxPooling2D(pool_size=(2,2)))\n",
        "model.add(BatchNormalization())\n",
        "model.add(Conv2D(32, (3,3), padding='same', activation = 'relu'))\n",
        "model.add(BatchNormalization())\n",
        "model.add(MaxPooling2D(pool_size=(2,2)))\n",
        "model.add(BatchNormalization())\n",
        "model.add(Flatten()) #matrix to vector\n",
        "model.add(Dense(64, activation= 'relu'))\n",
        "model.add(BatchNormalization())\n",
        "model.add(Dense(48, activation= 'relu'))\n",
        "model.add(BatchNormalization())\n",
        "model.add(Dense(12, activation= 'relu'))\n",
        "model.add(BatchNormalization())\n",
        "model.add(Dense(1, activation= 'sigmoid'))\n",
        "\n",
        "\n",
        "model.compile(loss='categorical_crossentropy', optimizer='adam',metrics='accuracy')"
      ],
      "metadata": {
        "id": "WK-lOnvgQ7xZ"
      },
      "execution_count": null,
      "outputs": []
    },
    {
      "cell_type": "code",
      "source": [
        "model.fit(X,y ,batch_size=32, epochs=15)"
      ],
      "metadata": {
        "colab": {
          "base_uri": "https://localhost:8080/"
        },
        "id": "aNaSfX_7T78O",
        "outputId": "4506391e-20f5-4587-c106-260542ff27b6"
      },
      "execution_count": null,
      "outputs": [
        {
          "output_type": "stream",
          "name": "stdout",
          "text": [
            "Epoch 1/15\n",
            "83/83 [==============================] - 2s 8ms/step - loss: 0.0000e+00 - accuracy: 0.7190\n",
            "Epoch 2/15\n",
            "83/83 [==============================] - 1s 7ms/step - loss: 0.0000e+00 - accuracy: 0.7990\n",
            "Epoch 3/15\n",
            "83/83 [==============================] - 1s 7ms/step - loss: 0.0000e+00 - accuracy: 0.7918\n",
            "Epoch 4/15\n",
            "83/83 [==============================] - 1s 8ms/step - loss: 0.0000e+00 - accuracy: 0.8176\n",
            "Epoch 5/15\n",
            "83/83 [==============================] - 1s 8ms/step - loss: 0.0000e+00 - accuracy: 0.8328\n",
            "Epoch 6/15\n",
            "83/83 [==============================] - 1s 7ms/step - loss: 0.0000e+00 - accuracy: 0.8335\n",
            "Epoch 7/15\n",
            "83/83 [==============================] - 1s 7ms/step - loss: 0.0000e+00 - accuracy: 0.8403\n",
            "Epoch 8/15\n",
            "83/83 [==============================] - 1s 8ms/step - loss: 0.0000e+00 - accuracy: 0.8407\n",
            "Epoch 9/15\n",
            "83/83 [==============================] - 1s 8ms/step - loss: 0.0000e+00 - accuracy: 0.8339\n",
            "Epoch 10/15\n",
            "83/83 [==============================] - 1s 7ms/step - loss: 0.0000e+00 - accuracy: 0.8354\n",
            "Epoch 11/15\n",
            "83/83 [==============================] - 1s 8ms/step - loss: 0.0000e+00 - accuracy: 0.8544\n",
            "Epoch 12/15\n",
            "83/83 [==============================] - 1s 7ms/step - loss: 0.0000e+00 - accuracy: 0.8726\n",
            "Epoch 13/15\n",
            "83/83 [==============================] - 1s 7ms/step - loss: 0.0000e+00 - accuracy: 0.8904\n",
            "Epoch 14/15\n",
            "83/83 [==============================] - 1s 7ms/step - loss: 0.0000e+00 - accuracy: 0.8885\n",
            "Epoch 15/15\n",
            "83/83 [==============================] - 1s 7ms/step - loss: 0.0000e+00 - accuracy: 0.9044\n"
          ]
        },
        {
          "output_type": "execute_result",
          "data": {
            "text/plain": [
              "<keras.callbacks.History at 0x7f47940fa6d0>"
            ]
          },
          "metadata": {},
          "execution_count": 14
        }
      ]
    },
    {
      "cell_type": "code",
      "source": [
        "model.fit(X1,y1 ,batch_size=32, epochs=10)"
      ],
      "metadata": {
        "colab": {
          "base_uri": "https://localhost:8080/"
        },
        "id": "f3hR1O_mVFR2",
        "outputId": "776d92e1-4932-4166-c7ad-0ff37317c4d8"
      },
      "execution_count": null,
      "outputs": [
        {
          "output_type": "stream",
          "name": "stdout",
          "text": [
            "Epoch 1/10\n",
            "83/83 [==============================] - 1s 8ms/step - loss: 0.0000e+00 - accuracy: 0.9147\n",
            "Epoch 2/10\n",
            "83/83 [==============================] - 1s 8ms/step - loss: 0.0000e+00 - accuracy: 0.9124\n",
            "Epoch 3/10\n",
            "83/83 [==============================] - 1s 8ms/step - loss: 0.0000e+00 - accuracy: 0.9291\n",
            "Epoch 4/10\n",
            "83/83 [==============================] - 1s 8ms/step - loss: 0.0000e+00 - accuracy: 0.9336\n",
            "Epoch 5/10\n",
            "83/83 [==============================] - 1s 11ms/step - loss: 0.0000e+00 - accuracy: 0.9321\n",
            "Epoch 6/10\n",
            "83/83 [==============================] - 1s 8ms/step - loss: 0.0000e+00 - accuracy: 0.9458\n",
            "Epoch 7/10\n",
            "83/83 [==============================] - 1s 8ms/step - loss: 0.0000e+00 - accuracy: 0.9348\n",
            "Epoch 8/10\n",
            "83/83 [==============================] - 1s 8ms/step - loss: 0.0000e+00 - accuracy: 0.9397\n",
            "Epoch 9/10\n",
            "83/83 [==============================] - 1s 8ms/step - loss: 0.0000e+00 - accuracy: 0.9378\n",
            "Epoch 10/10\n",
            "83/83 [==============================] - 1s 7ms/step - loss: 0.0000e+00 - accuracy: 0.9234\n"
          ]
        },
        {
          "output_type": "execute_result",
          "data": {
            "text/plain": [
              "<keras.callbacks.History at 0x7f477c5e88b0>"
            ]
          },
          "metadata": {},
          "execution_count": 15
        }
      ]
    },
    {
      "cell_type": "code",
      "source": [
        "model.summary"
      ],
      "metadata": {
        "id": "66JZkQAcMqlC",
        "colab": {
          "base_uri": "https://localhost:8080/"
        },
        "outputId": "5f2ed272-d05a-4269-fbc9-7a89264d6a56"
      },
      "execution_count": null,
      "outputs": [
        {
          "output_type": "execute_result",
          "data": {
            "text/plain": [
              "<bound method Model.summary of <keras.engine.sequential.Sequential object at 0x7f47941228b0>>"
            ]
          },
          "metadata": {},
          "execution_count": 16
        }
      ]
    },
    {
      "cell_type": "code",
      "source": [
        "#import pickle\n",
        "#pickle.dump(model,open('model.pkl','wb'))"
      ],
      "metadata": {
        "id": "Z5OO1Wyz-iWE"
      },
      "execution_count": null,
      "outputs": []
    },
    {
      "cell_type": "code",
      "source": [
        "model.save('model.h5')\n",
        "loaded_model = tf.keras.models.load_model('/content/model.h5')\n"
      ],
      "metadata": {
        "id": "2A_5F-M2AhdP"
      },
      "execution_count": null,
      "outputs": []
    },
    {
      "cell_type": "code",
      "source": [
        "from tensorflow.keras.preprocessing import image\n",
        "img11 = cv2.imread(\"/content/994.jpg\", 0)\n",
        "from google.colab.patches import cv2_imshow\n",
        "cv2_imshow(img11)\n",
        "img11 = cv2.resize(img11, (img_size, img_size))\n",
        "x=image.img_to_array(img11) / 255\n",
        "resized_img_np = np.expand_dims(x,axis=0)\n",
        "print(model.predict(resized_img_np))\n"
      ],
      "metadata": {
        "colab": {
          "base_uri": "https://localhost:8080/",
          "height": 276
        },
        "id": "1g4y7CkYHjB9",
        "outputId": "e5ceaf62-a083-4cb9-a16f-3552e7f70db7"
      },
      "execution_count": null,
      "outputs": [
        {
          "output_type": "display_data",
          "data": {
            "text/plain": [
              "<PIL.Image.Image image mode=L size=224x224 at 0x7F4794100CD0>"
            ],
            "image/png": "[encoded data removed]"
          },
          "metadata": {}
        },
        {
          "output_type": "stream",
          "name": "stdout",
          "text": [
            "1/1 [==============================] - 0s 15ms/step\n",
            "[[0.]]\n"
          ]
        }
      ]
    },
    {
      "cell_type": "code",
      "source": [],
      "metadata": {
        "id": "aFJS0T-RG0Pq"
      },
      "execution_count": null,
      "outputs": []
    }
  ]
}